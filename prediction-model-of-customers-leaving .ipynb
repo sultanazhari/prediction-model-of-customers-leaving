{
 "cells": [
  {
   "cell_type": "markdown",
   "metadata": {},
   "source": [
    "# Deskripsi Proyek\n",
    "Nasabah Bank Beta pergi meninggalkan perusahaan: sedikit demi sedikit, jumlah mereka berkurang setiap bulannya. Para pegawai bank menyadari bahwa akan lebih menghemat biaya jika perusahaan fokus untuk mempertahankan nasabah lama mereka yang setia daripada menarik nasabah baru.\n",
    "\n",
    "Pada kasus ini, tugas kita adalah untuk memprediksi apakah seorang nasabah akan segera meninggalkan bank atau tidak. Kamu memiliki data terkait perilaku para klien di masa lalu dan riwayat pemutusan kontrak mereka dengan bank.\n",
    "Buat sebuah model dengan skor F1 semaksimal mungkin. Untuk bisa dinyatakan lulus dari peninjauan, kamu memerlukan skor F1 minimal 0,59 untuk test dataset.\n",
    "\n",
    "Setelah itu, kamu akan membuat perubahan yang diperlukan pada pekerjaanmu dan mengirimkannya kembali untuk tinjauan kedua.\n",
    "Selain itu, ukur metrik AUC-ROC dan bandingkan metrik tersebut dengan skor F1."
   ]
  },
  {
   "cell_type": "code",
   "execution_count": 1,
   "metadata": {},
   "outputs": [],
   "source": [
    "# Memuat Librari yang diperlukan \n",
    "\n",
    "#data prep\n",
    "import pandas as pd, numpy as np\n",
    "\n",
    "#data viz\n",
    "import matplotlib.pyplot as plt, seaborn as sns\n",
    "\n",
    "#skylearn\n",
    "from sklearn.model_selection import train_test_split\n",
    "from sklearn.linear_model import LogisticRegression\n",
    "from sklearn.tree import DecisionTreeClassifier\n",
    "from sklearn.ensemble import RandomForestClassifier\n",
    "from sklearn.metrics import accuracy_score\n",
    "from sklearn.metrics import confusion_matrix, roc_auc_score\n",
    "\n",
    "\n",
    "# Data Statistic\n",
    "from scipy.stats import chi2_contingency"
   ]
  },
  {
   "cell_type": "markdown",
   "metadata": {},
   "source": [
    "## Pra-process data"
   ]
  },
  {
   "cell_type": "code",
   "execution_count": 2,
   "metadata": {},
   "outputs": [],
   "source": [
    "# Memuat data\n",
    "try:\n",
    "    data = pd.read_csv ('/datasets/Churn.csv')\n",
    "except:\n",
    "    data = pd.read_csv ('Churn.csv')"
   ]
  },
  {
   "cell_type": "code",
   "execution_count": 3,
   "metadata": {},
   "outputs": [
    {
     "data": {
      "text/html": [
       "<div>\n",
       "<style scoped>\n",
       "    .dataframe tbody tr th:only-of-type {\n",
       "        vertical-align: middle;\n",
       "    }\n",
       "\n",
       "    .dataframe tbody tr th {\n",
       "        vertical-align: top;\n",
       "    }\n",
       "\n",
       "    .dataframe thead th {\n",
       "        text-align: right;\n",
       "    }\n",
       "</style>\n",
       "<table border=\"1\" class=\"dataframe\">\n",
       "  <thead>\n",
       "    <tr style=\"text-align: right;\">\n",
       "      <th></th>\n",
       "      <th>RowNumber</th>\n",
       "      <th>CustomerId</th>\n",
       "      <th>Surname</th>\n",
       "      <th>CreditScore</th>\n",
       "      <th>Geography</th>\n",
       "      <th>Gender</th>\n",
       "      <th>Age</th>\n",
       "      <th>Tenure</th>\n",
       "      <th>Balance</th>\n",
       "      <th>NumOfProducts</th>\n",
       "      <th>HasCrCard</th>\n",
       "      <th>IsActiveMember</th>\n",
       "      <th>EstimatedSalary</th>\n",
       "      <th>Exited</th>\n",
       "    </tr>\n",
       "  </thead>\n",
       "  <tbody>\n",
       "    <tr>\n",
       "      <th>0</th>\n",
       "      <td>1</td>\n",
       "      <td>15634602</td>\n",
       "      <td>Hargrave</td>\n",
       "      <td>619</td>\n",
       "      <td>France</td>\n",
       "      <td>Female</td>\n",
       "      <td>42</td>\n",
       "      <td>2.0</td>\n",
       "      <td>0.00</td>\n",
       "      <td>1</td>\n",
       "      <td>1</td>\n",
       "      <td>1</td>\n",
       "      <td>101348.88</td>\n",
       "      <td>1</td>\n",
       "    </tr>\n",
       "    <tr>\n",
       "      <th>1</th>\n",
       "      <td>2</td>\n",
       "      <td>15647311</td>\n",
       "      <td>Hill</td>\n",
       "      <td>608</td>\n",
       "      <td>Spain</td>\n",
       "      <td>Female</td>\n",
       "      <td>41</td>\n",
       "      <td>1.0</td>\n",
       "      <td>83807.86</td>\n",
       "      <td>1</td>\n",
       "      <td>0</td>\n",
       "      <td>1</td>\n",
       "      <td>112542.58</td>\n",
       "      <td>0</td>\n",
       "    </tr>\n",
       "    <tr>\n",
       "      <th>2</th>\n",
       "      <td>3</td>\n",
       "      <td>15619304</td>\n",
       "      <td>Onio</td>\n",
       "      <td>502</td>\n",
       "      <td>France</td>\n",
       "      <td>Female</td>\n",
       "      <td>42</td>\n",
       "      <td>8.0</td>\n",
       "      <td>159660.80</td>\n",
       "      <td>3</td>\n",
       "      <td>1</td>\n",
       "      <td>0</td>\n",
       "      <td>113931.57</td>\n",
       "      <td>1</td>\n",
       "    </tr>\n",
       "    <tr>\n",
       "      <th>3</th>\n",
       "      <td>4</td>\n",
       "      <td>15701354</td>\n",
       "      <td>Boni</td>\n",
       "      <td>699</td>\n",
       "      <td>France</td>\n",
       "      <td>Female</td>\n",
       "      <td>39</td>\n",
       "      <td>1.0</td>\n",
       "      <td>0.00</td>\n",
       "      <td>2</td>\n",
       "      <td>0</td>\n",
       "      <td>0</td>\n",
       "      <td>93826.63</td>\n",
       "      <td>0</td>\n",
       "    </tr>\n",
       "    <tr>\n",
       "      <th>4</th>\n",
       "      <td>5</td>\n",
       "      <td>15737888</td>\n",
       "      <td>Mitchell</td>\n",
       "      <td>850</td>\n",
       "      <td>Spain</td>\n",
       "      <td>Female</td>\n",
       "      <td>43</td>\n",
       "      <td>2.0</td>\n",
       "      <td>125510.82</td>\n",
       "      <td>1</td>\n",
       "      <td>1</td>\n",
       "      <td>1</td>\n",
       "      <td>79084.10</td>\n",
       "      <td>0</td>\n",
       "    </tr>\n",
       "  </tbody>\n",
       "</table>\n",
       "</div>"
      ],
      "text/plain": [
       "   RowNumber  CustomerId   Surname  CreditScore Geography  Gender  Age  \\\n",
       "0          1    15634602  Hargrave          619    France  Female   42   \n",
       "1          2    15647311      Hill          608     Spain  Female   41   \n",
       "2          3    15619304      Onio          502    France  Female   42   \n",
       "3          4    15701354      Boni          699    France  Female   39   \n",
       "4          5    15737888  Mitchell          850     Spain  Female   43   \n",
       "\n",
       "   Tenure    Balance  NumOfProducts  HasCrCard  IsActiveMember  \\\n",
       "0     2.0       0.00              1          1               1   \n",
       "1     1.0   83807.86              1          0               1   \n",
       "2     8.0  159660.80              3          1               0   \n",
       "3     1.0       0.00              2          0               0   \n",
       "4     2.0  125510.82              1          1               1   \n",
       "\n",
       "   EstimatedSalary  Exited  \n",
       "0        101348.88       1  \n",
       "1        112542.58       0  \n",
       "2        113931.57       1  \n",
       "3         93826.63       0  \n",
       "4         79084.10       0  "
      ]
     },
     "execution_count": 3,
     "metadata": {},
     "output_type": "execute_result"
    }
   ],
   "source": [
    "# Melihat isi data\n",
    "data.head(5)"
   ]
  },
  {
   "cell_type": "markdown",
   "metadata": {},
   "source": [
    "<b>Deskripsi data</b>\n",
    "\n",
    "RowNumber — indeks string data\n",
    "\n",
    "CustomerId — ID pelanggan\n",
    "\n",
    "Surname — nama belakang\n",
    "\n",
    "CreditScore — skor kredit\n",
    "\n",
    "Geography — negara domisili\n",
    "\n",
    "Gender — gender\n",
    "\n",
    "Age — umur\n",
    "\n",
    "Tenure — jangka waktu jatuh tempo untuk deposito tetap nasabah (tahun)\n",
    "\n",
    "Balance — saldo rekening\n",
    "\n",
    "NumOfProducts — jumlah produk bank yang digunakan oleh nasabah\n",
    "\n",
    "HasCrCard — apakah nasabah memiliki kartu kredit (1 - jika ya; 0 - jika tidak)\n",
    "\n",
    "IsActiveMember — tingkat keaktifan nasabah (1 - jika ya; 0 - jika tidak)\n",
    "\n",
    "EstimatedSalary — estimasi gaji\n",
    "\n",
    "Target =\n",
    "\n",
    "Exited — apakah nasabah telah berhenti (1 - jika ya; 0 - jika tidak)\n"
   ]
  },
  {
   "cell_type": "markdown",
   "metadata": {},
   "source": [
    "## Data Exploration"
   ]
  },
  {
   "cell_type": "code",
   "execution_count": 4,
   "metadata": {},
   "outputs": [
    {
     "name": "stdout",
     "output_type": "stream",
     "text": [
      "<class 'pandas.core.frame.DataFrame'>\n",
      "RangeIndex: 10000 entries, 0 to 9999\n",
      "Data columns (total 14 columns):\n",
      " #   Column           Non-Null Count  Dtype  \n",
      "---  ------           --------------  -----  \n",
      " 0   RowNumber        10000 non-null  int64  \n",
      " 1   CustomerId       10000 non-null  int64  \n",
      " 2   Surname          10000 non-null  object \n",
      " 3   CreditScore      10000 non-null  int64  \n",
      " 4   Geography        10000 non-null  object \n",
      " 5   Gender           10000 non-null  object \n",
      " 6   Age              10000 non-null  int64  \n",
      " 7   Tenure           9091 non-null   float64\n",
      " 8   Balance          10000 non-null  float64\n",
      " 9   NumOfProducts    10000 non-null  int64  \n",
      " 10  HasCrCard        10000 non-null  int64  \n",
      " 11  IsActiveMember   10000 non-null  int64  \n",
      " 12  EstimatedSalary  10000 non-null  float64\n",
      " 13  Exited           10000 non-null  int64  \n",
      "dtypes: float64(3), int64(8), object(3)\n",
      "memory usage: 1.1+ MB\n"
     ]
    }
   ],
   "source": [
    "# Melakukan pengecekan informasi data\n",
    "data.info()"
   ]
  },
  {
   "cell_type": "code",
   "execution_count": 5,
   "metadata": {},
   "outputs": [
    {
     "data": {
      "text/plain": [
       "1.0     952\n",
       "2.0     950\n",
       "8.0     933\n",
       "3.0     928\n",
       "5.0     927\n",
       "7.0     925\n",
       "4.0     885\n",
       "9.0     882\n",
       "6.0     881\n",
       "10.0    446\n",
       "0.0     382\n",
       "Name: Tenure, dtype: int64"
      ]
     },
     "execution_count": 5,
     "metadata": {},
     "output_type": "execute_result"
    }
   ],
   "source": [
    "# Melakukan pengecekan isi data tabel \"Tenure\"\n",
    "data['Tenure'].value_counts()"
   ]
  },
  {
   "cell_type": "markdown",
   "metadata": {},
   "source": [
    "<pre><b>Mini-Conclusion</b>\n",
    "\n",
    "<b>RowNumber</b> — is Ok\n",
    "<b>CustomerId</b> — is OK\n",
    "<b>Surname</b> — is Ok \n",
    "<b>CreditScore</b> — is OK\n",
    "<b>Geography</b> — is OK\n",
    "<b>Gender</b> — is OK\n",
    "<b>Age</b> — is OK\n",
    "\n",
    "<b>Tenure</b> — memiliki <b>data yang hilang sebanyak 909</b>, Perlu dilakukan aksi atas nilai yang kosong.\n",
    "\n",
    "<b>Balance</b> — is OK\n",
    "<b>NumOfProducts</b> — is OK\n",
    "<b>HasCrCard</b> — is OK\n",
    "<b>IsActiveMember</b> — is OK\n",
    "<b>EstimatedSalary</b> — is OK\n",
    "<b>Exited</b> — is OK\n",
    "\n",
    "</pre>"
   ]
  },
  {
   "cell_type": "markdown",
   "metadata": {},
   "source": [
    "## Quality data"
   ]
  },
  {
   "cell_type": "code",
   "execution_count": 6,
   "metadata": {},
   "outputs": [
    {
     "data": {
      "text/plain": [
       "1.0     952\n",
       "2.0     950\n",
       "8.0     933\n",
       "3.0     928\n",
       "5.0     927\n",
       "7.0     925\n",
       "4.0     885\n",
       "9.0     882\n",
       "6.0     881\n",
       "10.0    446\n",
       "0.0     382\n",
       "Name: Tenure, dtype: int64"
      ]
     },
     "execution_count": 6,
     "metadata": {},
     "output_type": "execute_result"
    }
   ],
   "source": [
    "# Melakukan pengecekan isi data tabel \"Tenure\"\n",
    "data['Tenure'].value_counts()"
   ]
  },
  {
   "cell_type": "code",
   "execution_count": 7,
   "metadata": {},
   "outputs": [],
   "source": [
    "# Melakukan filter data kolom Tenure tanpa ada data yang hilang\n",
    "data_nan_tenure = data.loc[~(data['Tenure'].isna())]"
   ]
  },
  {
   "cell_type": "code",
   "execution_count": 8,
   "metadata": {},
   "outputs": [
    {
     "data": {
      "text/plain": [
       "5.0"
      ]
     },
     "execution_count": 8,
     "metadata": {},
     "output_type": "execute_result"
    }
   ],
   "source": [
    "# Mendapatkan Nilai tengah dari kolom Tenure yang telah di filter\n",
    "data_nan_tenure_mean = data_nan_tenure['Tenure'].median()\n",
    "data_nan_tenure_mean"
   ]
  },
  {
   "cell_type": "markdown",
   "metadata": {},
   "source": [
    "<div class=\"alert-info\">\n",
    "<b>Note</b>\n",
    "\n",
    "Data yang hilang pada kolom Tenure akan diisi oleh nilai median\n",
    "\n",
    "    \n",
    "    \n",
    "\n",
    "</div>"
   ]
  },
  {
   "cell_type": "code",
   "execution_count": 9,
   "metadata": {},
   "outputs": [],
   "source": [
    "# Mengisi data yang hilang menjadi nilai media\n",
    "data['Tenure'].fillna(value=data_nan_tenure_mean, inplace=True)"
   ]
  },
  {
   "cell_type": "markdown",
   "metadata": {},
   "source": [
    "## Exploratory Data Analyst"
   ]
  },
  {
   "cell_type": "markdown",
   "metadata": {},
   "source": [
    "### Apakah ada pengaruh terhadap Skor Kredit dengan nasabah yang berhenti?"
   ]
  },
  {
   "cell_type": "code",
   "execution_count": 10,
   "metadata": {},
   "outputs": [],
   "source": [
    "# Memisahkan data yang nasabah yang berhenti dan tidak\n",
    "data['exited_str'] = data['Exited']\n",
    "data.loc[(data['Exited'] == 1), 'exited_str'] = 'exit'\n",
    "data.loc[(data['Exited'] == 0), 'exited_str'] = 'stay'"
   ]
  },
  {
   "cell_type": "code",
   "execution_count": 11,
   "metadata": {},
   "outputs": [
    {
     "data": {
      "image/png": "[encoded data removed]",
      "text/plain": [
       "<Figure size 640x480 with 1 Axes>"
      ]
     },
     "metadata": {},
     "output_type": "display_data"
    }
   ],
   "source": [
    "# Melihat distribusi CreditScore terhadap  yang keluar atau bertahan\n",
    "sns.violinplot(data=data, x='CreditScore', y='exited_str')\n",
    "plt.title('Total distribusi berdasarkan Skor Kredit')\n",
    "plt.show()"
   ]
  },
  {
   "cell_type": "code",
   "execution_count": 12,
   "metadata": {},
   "outputs": [
    {
     "data": {
      "text/html": [
       "<div>\n",
       "<style scoped>\n",
       "    .dataframe tbody tr th:only-of-type {\n",
       "        vertical-align: middle;\n",
       "    }\n",
       "\n",
       "    .dataframe tbody tr th {\n",
       "        vertical-align: top;\n",
       "    }\n",
       "\n",
       "    .dataframe thead tr th {\n",
       "        text-align: left;\n",
       "    }\n",
       "\n",
       "    .dataframe thead tr:last-of-type th {\n",
       "        text-align: right;\n",
       "    }\n",
       "</style>\n",
       "<table border=\"1\" class=\"dataframe\">\n",
       "  <thead>\n",
       "    <tr>\n",
       "      <th></th>\n",
       "      <th>mean</th>\n",
       "      <th>var</th>\n",
       "      <th>std</th>\n",
       "    </tr>\n",
       "    <tr>\n",
       "      <th></th>\n",
       "      <th>CreditScore</th>\n",
       "      <th>CreditScore</th>\n",
       "      <th>CreditScore</th>\n",
       "    </tr>\n",
       "    <tr>\n",
       "      <th>exited_str</th>\n",
       "      <th></th>\n",
       "      <th></th>\n",
       "      <th></th>\n",
       "    </tr>\n",
       "  </thead>\n",
       "  <tbody>\n",
       "    <tr>\n",
       "      <th>exit</th>\n",
       "      <td>645.351497</td>\n",
       "      <td>10064.403894</td>\n",
       "      <td>100.321503</td>\n",
       "    </tr>\n",
       "    <tr>\n",
       "      <th>stay</th>\n",
       "      <td>651.853196</td>\n",
       "      <td>9149.656542</td>\n",
       "      <td>95.653837</td>\n",
       "    </tr>\n",
       "  </tbody>\n",
       "</table>\n",
       "</div>"
      ],
      "text/plain": [
       "                  mean           var         std\n",
       "           CreditScore   CreditScore CreditScore\n",
       "exited_str                                      \n",
       "exit        645.351497  10064.403894  100.321503\n",
       "stay        651.853196   9149.656542   95.653837"
      ]
     },
     "execution_count": 12,
     "metadata": {},
     "output_type": "execute_result"
    }
   ],
   "source": [
    "# Mendapatkan nilai rata-rata, varian dan standar deviasi berdasarkan Skor Kredit\n",
    "data.pivot_table(index='exited_str', values='CreditScore', aggfunc=[np.mean, np.var, np.std])"
   ]
  },
  {
   "cell_type": "markdown",
   "metadata": {},
   "source": [
    "<div class=\"alert-info\">\n",
    "<b>INSIGHT</b>\n",
    "\n",
    "\n",
    "- Tidak terdapat perbedaan yang signifikan antara Skor Kredit dengan pelanggan yang berhenti ataupun masuk.\n",
    "\n",
    "Sehingga dapat disimpulkan bahwa Tidak terdapat pengaruh Skor Kredit yang kecil ataupun besar terhadap pelanggan yang berhenti ataupun masuk. \n",
    "    \n",
    "    \n",
    "\n",
    "</div>"
   ]
  },
  {
   "cell_type": "markdown",
   "metadata": {},
   "source": [
    "### Bagaimana data nasabah yang berhenti di masing-masing negara"
   ]
  },
  {
   "cell_type": "code",
   "execution_count": 13,
   "metadata": {},
   "outputs": [
    {
     "data": {
      "text/plain": [
       "France     5014\n",
       "Germany    2509\n",
       "Spain      2477\n",
       "Name: Geography, dtype: int64"
      ]
     },
     "execution_count": 13,
     "metadata": {},
     "output_type": "execute_result"
    }
   ],
   "source": [
    "# Melakukan pengecekan isi data tabel \"Tenure\"\n",
    "data['Geography'].value_counts()"
   ]
  },
  {
   "cell_type": "code",
   "execution_count": 14,
   "metadata": {},
   "outputs": [],
   "source": [
    "# Mendapatkan nilai rata-rata, varian dan standar deviasi berdasarkan Skor Kredit\n",
    "country = pd.pivot_table(data=data, index='Geography', columns='exited_str', values='CustomerId', aggfunc='count')"
   ]
  },
  {
   "cell_type": "code",
   "execution_count": 15,
   "metadata": {},
   "outputs": [
    {
     "data": {
      "text/html": [
       "<div>\n",
       "<style scoped>\n",
       "    .dataframe tbody tr th:only-of-type {\n",
       "        vertical-align: middle;\n",
       "    }\n",
       "\n",
       "    .dataframe tbody tr th {\n",
       "        vertical-align: top;\n",
       "    }\n",
       "\n",
       "    .dataframe thead th {\n",
       "        text-align: right;\n",
       "    }\n",
       "</style>\n",
       "<table border=\"1\" class=\"dataframe\">\n",
       "  <thead>\n",
       "    <tr style=\"text-align: right;\">\n",
       "      <th>exited_str</th>\n",
       "      <th>exit</th>\n",
       "      <th>stay</th>\n",
       "    </tr>\n",
       "    <tr>\n",
       "      <th>Geography</th>\n",
       "      <th></th>\n",
       "      <th></th>\n",
       "    </tr>\n",
       "  </thead>\n",
       "  <tbody>\n",
       "    <tr>\n",
       "      <th>France</th>\n",
       "      <td>810</td>\n",
       "      <td>4204</td>\n",
       "    </tr>\n",
       "    <tr>\n",
       "      <th>Germany</th>\n",
       "      <td>814</td>\n",
       "      <td>1695</td>\n",
       "    </tr>\n",
       "    <tr>\n",
       "      <th>Spain</th>\n",
       "      <td>413</td>\n",
       "      <td>2064</td>\n",
       "    </tr>\n",
       "  </tbody>\n",
       "</table>\n",
       "</div>"
      ],
      "text/plain": [
       "exited_str  exit  stay\n",
       "Geography             \n",
       "France       810  4204\n",
       "Germany      814  1695\n",
       "Spain        413  2064"
      ]
     },
     "execution_count": 15,
     "metadata": {},
     "output_type": "execute_result"
    }
   ],
   "source": [
    "country"
   ]
  },
  {
   "cell_type": "code",
   "execution_count": 16,
   "metadata": {},
   "outputs": [
    {
     "data": {
      "image/png": "[encoded data removed]",
      "text/plain": [
       "<Figure size 640x480 with 1 Axes>"
      ]
     },
     "metadata": {},
     "output_type": "display_data"
    }
   ],
   "source": [
    "sns.barplot(data=country, x = ['France','Germany','Spain'], y = 'exit')\n",
    "plt.show()"
   ]
  },
  {
   "cell_type": "markdown",
   "metadata": {},
   "source": [
    "<div class=\"alert-info\">\n",
    "<b>Note</b>\n",
    "\n",
    "    \n",
    "- Negara Spanyol Merupakan negara yang dimana pelanggan berhenti lebih sedikit 2x lipat dari Prancis dan Jerman\n",
    "    \n",
    "    \n",
    "\n",
    "</div>"
   ]
  },
  {
   "cell_type": "code",
   "execution_count": 17,
   "metadata": {},
   "outputs": [
    {
     "data": {
      "image/png": "[encoded data removed]",
      "text/plain": [
       "<Figure size 640x480 with 1 Axes>"
      ]
     },
     "metadata": {},
     "output_type": "display_data"
    }
   ],
   "source": [
    "sns.barplot(data=country, x = ['France','Germany','Spain'], y = 'stay')\n",
    "plt.show()"
   ]
  },
  {
   "cell_type": "code",
   "execution_count": 18,
   "metadata": {},
   "outputs": [],
   "source": [
    "geo_exit = pd.pivot_table(data=data, index='Geography', columns='exited_str', values='CustomerId', aggfunc='count')"
   ]
  },
  {
   "cell_type": "markdown",
   "metadata": {},
   "source": [
    "<div class=\"alert-info\">\n",
    "<b>Note</b>\n",
    "\n",
    "    \n",
    "- Negara Prancis Merupakan negara yang dimana pelanggan bertahan paling banyak diantara Jerman dan Spanyol\n",
    "    \n",
    "    \n",
    "\n",
    "</div>"
   ]
  },
  {
   "cell_type": "code",
   "execution_count": 19,
   "metadata": {},
   "outputs": [
    {
     "name": "stdout",
     "output_type": "stream",
     "text": [
      "P-Value: 3.8303176053541544e-66\n",
      "H1: Ada hubungan antara negara dengan orang yang churn\n",
      "Kolom Geography memiliki impact yang besar terhadap model\n"
     ]
    }
   ],
   "source": [
    "p_value = chi2_contingency(geo_exit)[1]\n",
    "alpha = 0.05\n",
    "print('P-Value:', p_value)\n",
    "if p_value > alpha:\n",
    "    print('H0: Tidak ada hubungan antara negara dengan orang yang berhenti')\n",
    "    print('Kolom Geography tidak memiliki impact yang besar terhadap model')\n",
    "else:\n",
    "    print('H1: Ada hubungan antara negara dengan orang yang churn')\n",
    "    print('Kolom Geography memiliki impact yang besar terhadap model')"
   ]
  },
  {
   "cell_type": "markdown",
   "metadata": {},
   "source": [
    "<div class=\"alert-info\">\n",
    "<b>Note</b>\n",
    "\n",
    "    \n",
    "Kolom Negera Memiliki hubungungan dengan orang yang berhenti.\n",
    "Dan perlu di teliti lebih lanjut\n",
    "    \n",
    "\n",
    "</div>"
   ]
  },
  {
   "cell_type": "markdown",
   "metadata": {},
   "source": [
    "### Bagaimana distribusi data pelanggan yang berhenti setiap gender?"
   ]
  },
  {
   "cell_type": "code",
   "execution_count": 20,
   "metadata": {},
   "outputs": [
    {
     "data": {
      "text/plain": [
       "Male      5457\n",
       "Female    4543\n",
       "Name: Gender, dtype: int64"
      ]
     },
     "execution_count": 20,
     "metadata": {},
     "output_type": "execute_result"
    }
   ],
   "source": [
    "# Melakukan pengecekan isi data tabel \"Tenure\"\n",
    "data['Gender'].value_counts()"
   ]
  },
  {
   "cell_type": "code",
   "execution_count": 21,
   "metadata": {},
   "outputs": [
    {
     "data": {
      "text/html": [
       "<div>\n",
       "<style scoped>\n",
       "    .dataframe tbody tr th:only-of-type {\n",
       "        vertical-align: middle;\n",
       "    }\n",
       "\n",
       "    .dataframe tbody tr th {\n",
       "        vertical-align: top;\n",
       "    }\n",
       "\n",
       "    .dataframe thead th {\n",
       "        text-align: right;\n",
       "    }\n",
       "</style>\n",
       "<table border=\"1\" class=\"dataframe\">\n",
       "  <thead>\n",
       "    <tr style=\"text-align: right;\">\n",
       "      <th>exited_str</th>\n",
       "      <th>exit</th>\n",
       "      <th>stay</th>\n",
       "    </tr>\n",
       "    <tr>\n",
       "      <th>Gender</th>\n",
       "      <th></th>\n",
       "      <th></th>\n",
       "    </tr>\n",
       "  </thead>\n",
       "  <tbody>\n",
       "    <tr>\n",
       "      <th>Female</th>\n",
       "      <td>1139</td>\n",
       "      <td>3404</td>\n",
       "    </tr>\n",
       "    <tr>\n",
       "      <th>Male</th>\n",
       "      <td>898</td>\n",
       "      <td>4559</td>\n",
       "    </tr>\n",
       "  </tbody>\n",
       "</table>\n",
       "</div>"
      ],
      "text/plain": [
       "exited_str  exit  stay\n",
       "Gender                \n",
       "Female      1139  3404\n",
       "Male         898  4559"
      ]
     },
     "execution_count": 21,
     "metadata": {},
     "output_type": "execute_result"
    }
   ],
   "source": [
    "# Adakah perbedaan orang yang berhenti dari tiap gender?\n",
    "data_gender = pd.pivot_table(data=data, index='Gender', columns='exited_str', values='CustomerId', aggfunc='count')\n",
    "data_gender"
   ]
  },
  {
   "cell_type": "code",
   "execution_count": 22,
   "metadata": {},
   "outputs": [
    {
     "name": "stdout",
     "output_type": "stream",
     "text": [
      "P-Value: 2.2482100097131755e-26\n",
      "H1: Ada hubungan antara Gender dengan orang yang berhenti\n",
      "Kolom Gender memiliki impact yang besar terhadap model\n"
     ]
    }
   ],
   "source": [
    "p_value = chi2_contingency(data_gender)[1]\n",
    "alpha = 0.05\n",
    "print('P-Value:', p_value)\n",
    "if p_value > alpha:\n",
    "    print('H0: Tidak ada hubungan antara Gender dengan orang yang berhenti')\n",
    "    print('Kolom Gender tidak memiliki impact yang besar terhadap model')\n",
    "else:\n",
    "    print('H1: Ada hubungan antara Gender dengan orang yang berhenti')\n",
    "    print('Kolom Gender memiliki impact yang besar terhadap model')"
   ]
  },
  {
   "cell_type": "markdown",
   "metadata": {},
   "source": [
    "<div class=\"alert-info\">\n",
    "<b>Note</b>\n",
    "\n",
    "    \n",
    "Kolom Negera Memiliki hubungungan dengan orang yang berhenti.\n",
    "Dan perlu di teliti lebih lanjut\n",
    "    \n",
    "\n",
    "</div>"
   ]
  },
  {
   "cell_type": "code",
   "execution_count": 23,
   "metadata": {
    "scrolled": true
   },
   "outputs": [
    {
     "data": {
      "image/png": "[encoded data removed]",
      "text/plain": [
       "<Figure size 640x480 with 1 Axes>"
      ]
     },
     "metadata": {},
     "output_type": "display_data"
    },
    {
     "name": "stdout",
     "output_type": "stream",
     "text": [
      "stay    7963\n",
      "exit    2037\n",
      "Name: exited_str, dtype: int64\n"
     ]
    }
   ],
   "source": [
    "# Jumlah Masing2 target\n",
    "exited = data['exited_str'].value_counts().reset_index()\n",
    "sns.barplot(data=exited, x='index', y='exited_str')\n",
    "plt.show()\n",
    "print(data['exited_str'].value_counts())"
   ]
  },
  {
   "cell_type": "markdown",
   "metadata": {},
   "source": [
    "### Bagaimana distribusi data pelanggan berdasarkan Umur?"
   ]
  },
  {
   "cell_type": "code",
   "execution_count": 24,
   "metadata": {},
   "outputs": [
    {
     "data": {
      "image/png": "[encoded data removed]",
      "text/plain": [
       "<Figure size 640x480 with 1 Axes>"
      ]
     },
     "metadata": {},
     "output_type": "display_data"
    }
   ],
   "source": [
    "# Melihat distribusi Umur terhadap  yang keluar atau bertahan\n",
    "sns.violinplot(data=data, x='Age', y='exited_str')\n",
    "plt.title('Total distribusi berdasarkan Umur')\n",
    "plt.show()"
   ]
  },
  {
   "cell_type": "code",
   "execution_count": 25,
   "metadata": {},
   "outputs": [
    {
     "data": {
      "text/html": [
       "<div>\n",
       "<style scoped>\n",
       "    .dataframe tbody tr th:only-of-type {\n",
       "        vertical-align: middle;\n",
       "    }\n",
       "\n",
       "    .dataframe tbody tr th {\n",
       "        vertical-align: top;\n",
       "    }\n",
       "\n",
       "    .dataframe thead tr th {\n",
       "        text-align: left;\n",
       "    }\n",
       "\n",
       "    .dataframe thead tr:last-of-type th {\n",
       "        text-align: right;\n",
       "    }\n",
       "</style>\n",
       "<table border=\"1\" class=\"dataframe\">\n",
       "  <thead>\n",
       "    <tr>\n",
       "      <th></th>\n",
       "      <th>mean</th>\n",
       "      <th>var</th>\n",
       "      <th>std</th>\n",
       "    </tr>\n",
       "    <tr>\n",
       "      <th></th>\n",
       "      <th>Age</th>\n",
       "      <th>Age</th>\n",
       "      <th>Age</th>\n",
       "    </tr>\n",
       "    <tr>\n",
       "      <th>exited_str</th>\n",
       "      <th></th>\n",
       "      <th></th>\n",
       "      <th></th>\n",
       "    </tr>\n",
       "  </thead>\n",
       "  <tbody>\n",
       "    <tr>\n",
       "      <th>exit</th>\n",
       "      <td>44.837997</td>\n",
       "      <td>95.288084</td>\n",
       "      <td>9.761562</td>\n",
       "    </tr>\n",
       "    <tr>\n",
       "      <th>stay</th>\n",
       "      <td>37.408389</td>\n",
       "      <td>102.522974</td>\n",
       "      <td>10.125363</td>\n",
       "    </tr>\n",
       "  </tbody>\n",
       "</table>\n",
       "</div>"
      ],
      "text/plain": [
       "                 mean         var        std\n",
       "                  Age         Age        Age\n",
       "exited_str                                  \n",
       "exit        44.837997   95.288084   9.761562\n",
       "stay        37.408389  102.522974  10.125363"
      ]
     },
     "execution_count": 25,
     "metadata": {},
     "output_type": "execute_result"
    }
   ],
   "source": [
    "# Mendapatkan nilai rata-rata, varian dan standar deviasi berdasarkan Umur\n",
    "data.pivot_table(index='exited_str', values='Age', aggfunc=[np.mean, np.var, np.std])"
   ]
  },
  {
   "cell_type": "markdown",
   "metadata": {},
   "source": [
    "<div class=\"alert-info\">\n",
    "<b>Note</b>\n",
    "\n",
    "    \n",
    "- Rata-rata pelanggan yang berhenti yaitu pada umur 44 Tahun\n",
    "- Rata-rata pelanggan yang tetap bertahan pada umur 37 tahun yang artinya lebih muda.\n",
    "- Terdapat pengaruh terhadap data pelanggan yang berhenti dengan umur.\n",
    "    \n",
    "\n",
    "</div>"
   ]
  },
  {
   "cell_type": "markdown",
   "metadata": {},
   "source": [
    "### Bagaimana distribusi data pelanggan berdasarkan Tenure?"
   ]
  },
  {
   "cell_type": "code",
   "execution_count": 26,
   "metadata": {},
   "outputs": [
    {
     "data": {
      "image/png": "[encoded data removed]",
      "text/plain": [
       "<Figure size 640x480 with 1 Axes>"
      ]
     },
     "metadata": {},
     "output_type": "display_data"
    }
   ],
   "source": [
    "# Melihat distribusi Tenure terhadap yang keluar atau bertahan\n",
    "sns.violinplot(data=data, x='Tenure', y='exited_str')\n",
    "plt.title('Total distribusi berdasarkan Tenure')\n",
    "plt.show()"
   ]
  },
  {
   "cell_type": "code",
   "execution_count": 27,
   "metadata": {},
   "outputs": [
    {
     "data": {
      "text/html": [
       "<div>\n",
       "<style scoped>\n",
       "    .dataframe tbody tr th:only-of-type {\n",
       "        vertical-align: middle;\n",
       "    }\n",
       "\n",
       "    .dataframe tbody tr th {\n",
       "        vertical-align: top;\n",
       "    }\n",
       "\n",
       "    .dataframe thead tr th {\n",
       "        text-align: left;\n",
       "    }\n",
       "\n",
       "    .dataframe thead tr:last-of-type th {\n",
       "        text-align: right;\n",
       "    }\n",
       "</style>\n",
       "<table border=\"1\" class=\"dataframe\">\n",
       "  <thead>\n",
       "    <tr>\n",
       "      <th></th>\n",
       "      <th>mean</th>\n",
       "      <th>var</th>\n",
       "      <th>std</th>\n",
       "    </tr>\n",
       "    <tr>\n",
       "      <th></th>\n",
       "      <th>Tenure</th>\n",
       "      <th>Tenure</th>\n",
       "      <th>Tenure</th>\n",
       "    </tr>\n",
       "    <tr>\n",
       "      <th>exited_str</th>\n",
       "      <th></th>\n",
       "      <th></th>\n",
       "      <th></th>\n",
       "    </tr>\n",
       "  </thead>\n",
       "  <tbody>\n",
       "    <tr>\n",
       "      <th>exit</th>\n",
       "      <td>4.910653</td>\n",
       "      <td>7.892799</td>\n",
       "      <td>2.809413</td>\n",
       "    </tr>\n",
       "    <tr>\n",
       "      <th>stay</th>\n",
       "      <td>5.020219</td>\n",
       "      <td>7.545811</td>\n",
       "      <td>2.746964</td>\n",
       "    </tr>\n",
       "  </tbody>\n",
       "</table>\n",
       "</div>"
      ],
      "text/plain": [
       "                mean       var       std\n",
       "              Tenure    Tenure    Tenure\n",
       "exited_str                              \n",
       "exit        4.910653  7.892799  2.809413\n",
       "stay        5.020219  7.545811  2.746964"
      ]
     },
     "execution_count": 27,
     "metadata": {},
     "output_type": "execute_result"
    }
   ],
   "source": [
    "# Mendapatkan nilai rata-rata, varian dan standar deviasi berdasarkan Tenure\n",
    "data.pivot_table(index='exited_str', values='Tenure', aggfunc=[np.mean, np.var, np.std])"
   ]
  },
  {
   "cell_type": "markdown",
   "metadata": {},
   "source": [
    "<div class=\"alert-info\">\n",
    "<b>Note</b>\n",
    "\n",
    "    \n",
    "- Penyebaran data waktu tempo pelunasan tergolong merata sehingga dapat dikatakan tidak terdapat hubungan antara Tenure dengan pelanggan yang Churn    \n",
    "\n",
    "</div>"
   ]
  },
  {
   "cell_type": "markdown",
   "metadata": {},
   "source": [
    "### Bagaimana distribusi data pelanggan berdasarkan Saldo Rekening ?"
   ]
  },
  {
   "cell_type": "code",
   "execution_count": 28,
   "metadata": {},
   "outputs": [
    {
     "data": {
      "image/png": "[encoded data removed]",
      "text/plain": [
       "<Figure size 640x480 with 1 Axes>"
      ]
     },
     "metadata": {},
     "output_type": "display_data"
    }
   ],
   "source": [
    "# Melihat distribusi Saldo Rekening terhadap yang keluar atau bertahan\n",
    "sns.violinplot(data=data, x='Balance', y='exited_str')\n",
    "plt.title('Total distribusi berdasarkan Saldo Rekening')\n",
    "plt.show()"
   ]
  },
  {
   "cell_type": "code",
   "execution_count": 29,
   "metadata": {},
   "outputs": [
    {
     "data": {
      "text/html": [
       "<div>\n",
       "<style scoped>\n",
       "    .dataframe tbody tr th:only-of-type {\n",
       "        vertical-align: middle;\n",
       "    }\n",
       "\n",
       "    .dataframe tbody tr th {\n",
       "        vertical-align: top;\n",
       "    }\n",
       "\n",
       "    .dataframe thead tr th {\n",
       "        text-align: left;\n",
       "    }\n",
       "\n",
       "    .dataframe thead tr:last-of-type th {\n",
       "        text-align: right;\n",
       "    }\n",
       "</style>\n",
       "<table border=\"1\" class=\"dataframe\">\n",
       "  <thead>\n",
       "    <tr>\n",
       "      <th></th>\n",
       "      <th>mean</th>\n",
       "      <th>var</th>\n",
       "      <th>std</th>\n",
       "    </tr>\n",
       "    <tr>\n",
       "      <th></th>\n",
       "      <th>Tenure</th>\n",
       "      <th>Tenure</th>\n",
       "      <th>Tenure</th>\n",
       "    </tr>\n",
       "    <tr>\n",
       "      <th>exited_str</th>\n",
       "      <th></th>\n",
       "      <th></th>\n",
       "      <th></th>\n",
       "    </tr>\n",
       "  </thead>\n",
       "  <tbody>\n",
       "    <tr>\n",
       "      <th>exit</th>\n",
       "      <td>4.910653</td>\n",
       "      <td>7.892799</td>\n",
       "      <td>2.809413</td>\n",
       "    </tr>\n",
       "    <tr>\n",
       "      <th>stay</th>\n",
       "      <td>5.020219</td>\n",
       "      <td>7.545811</td>\n",
       "      <td>2.746964</td>\n",
       "    </tr>\n",
       "  </tbody>\n",
       "</table>\n",
       "</div>"
      ],
      "text/plain": [
       "                mean       var       std\n",
       "              Tenure    Tenure    Tenure\n",
       "exited_str                              \n",
       "exit        4.910653  7.892799  2.809413\n",
       "stay        5.020219  7.545811  2.746964"
      ]
     },
     "execution_count": 29,
     "metadata": {},
     "output_type": "execute_result"
    }
   ],
   "source": [
    "# Mendapatkan nilai rata-rata, varian dan standar deviasi berdasarkan Tenure\n",
    "data.pivot_table(index='exited_str', values='Tenure', aggfunc=[np.mean, np.var, np.std])"
   ]
  },
  {
   "cell_type": "markdown",
   "metadata": {},
   "source": [
    "<div class=\"alert-info\">\n",
    "<b>Note</b>\n",
    "\n",
    "    \n",
    "- Penyebaran antara orang yang berhenti dan bertahan hampir sama.\n",
    "- Tidak Terdapat pengaruh terhadap data pelanggan yang berhenti dengan saldo Rekening.\n",
    "    \n",
    "\n",
    "</div>"
   ]
  },
  {
   "cell_type": "markdown",
   "metadata": {},
   "source": [
    "### Bagaimana distribusi data pelanggan berdasarkan jumlah produk bank yang digunakan oleh nasabah ?"
   ]
  },
  {
   "cell_type": "code",
   "execution_count": 30,
   "metadata": {},
   "outputs": [
    {
     "data": {
      "image/png": "[encoded data removed]",
      "text/plain": [
       "<Figure size 640x480 with 1 Axes>"
      ]
     },
     "metadata": {},
     "output_type": "display_data"
    }
   ],
   "source": [
    "# Melihat distribusi Saldo Rekening terhadap yang keluar atau bertahan\n",
    "sns.violinplot(data=data, x='NumOfProducts', y='exited_str')\n",
    "plt.title('Total distribusi berdasarkan  jumlah produk bank yang digunakan oleh nasabah')\n",
    "plt.show()"
   ]
  },
  {
   "cell_type": "code",
   "execution_count": 31,
   "metadata": {},
   "outputs": [
    {
     "data": {
      "text/html": [
       "<div>\n",
       "<style scoped>\n",
       "    .dataframe tbody tr th:only-of-type {\n",
       "        vertical-align: middle;\n",
       "    }\n",
       "\n",
       "    .dataframe tbody tr th {\n",
       "        vertical-align: top;\n",
       "    }\n",
       "\n",
       "    .dataframe thead tr th {\n",
       "        text-align: left;\n",
       "    }\n",
       "\n",
       "    .dataframe thead tr:last-of-type th {\n",
       "        text-align: right;\n",
       "    }\n",
       "</style>\n",
       "<table border=\"1\" class=\"dataframe\">\n",
       "  <thead>\n",
       "    <tr>\n",
       "      <th></th>\n",
       "      <th>mean</th>\n",
       "      <th>var</th>\n",
       "      <th>std</th>\n",
       "    </tr>\n",
       "    <tr>\n",
       "      <th></th>\n",
       "      <th>NumOfProducts</th>\n",
       "      <th>NumOfProducts</th>\n",
       "      <th>NumOfProducts</th>\n",
       "    </tr>\n",
       "    <tr>\n",
       "      <th>exited_str</th>\n",
       "      <th></th>\n",
       "      <th></th>\n",
       "      <th></th>\n",
       "    </tr>\n",
       "  </thead>\n",
       "  <tbody>\n",
       "    <tr>\n",
       "      <th>exit</th>\n",
       "      <td>1.475209</td>\n",
       "      <td>0.642435</td>\n",
       "      <td>0.801521</td>\n",
       "    </tr>\n",
       "    <tr>\n",
       "      <th>stay</th>\n",
       "      <td>1.544267</td>\n",
       "      <td>0.259626</td>\n",
       "      <td>0.509536</td>\n",
       "    </tr>\n",
       "  </tbody>\n",
       "</table>\n",
       "</div>"
      ],
      "text/plain": [
       "                    mean           var           std\n",
       "           NumOfProducts NumOfProducts NumOfProducts\n",
       "exited_str                                          \n",
       "exit            1.475209      0.642435      0.801521\n",
       "stay            1.544267      0.259626      0.509536"
      ]
     },
     "execution_count": 31,
     "metadata": {},
     "output_type": "execute_result"
    }
   ],
   "source": [
    "# Mendapatkan nilai rata-rata, varian dan standar deviasi berdasarkan jumlah produk bank yang digunakan oleh nasabah\n",
    "data.pivot_table(index='exited_str', values='NumOfProducts', aggfunc=[np.mean, np.var, np.std])"
   ]
  },
  {
   "cell_type": "markdown",
   "metadata": {},
   "source": [
    "<div class=\"alert-info\">\n",
    "<b>Note</b>\n",
    "\n",
    "    \n",
    "- Pelanggan yang menggunakan lebih dari 2 produk bank cendrung bertahan.\n",
    "- Pelanggan yang menggunakan 1 atau kurang dari 2 produk cendrung berhenti.\n",
    "\n",
    "</div>"
   ]
  },
  {
   "cell_type": "markdown",
   "metadata": {},
   "source": [
    "### Bagaimana distribusi data pelanggan berdasarkan yang memiliki Kartu Kredit ?"
   ]
  },
  {
   "cell_type": "code",
   "execution_count": 32,
   "metadata": {},
   "outputs": [
    {
     "data": {
      "image/png": "[encoded data removed]",
      "text/plain": [
       "<Figure size 640x480 with 1 Axes>"
      ]
     },
     "metadata": {},
     "output_type": "display_data"
    }
   ],
   "source": [
    "# Melihat distribusi Memiliki Kartu Kredit terhadap yang keluar atau bertahan\n",
    "sns.violinplot(data=data, x='HasCrCard', y='exited_str')\n",
    "plt.title('Total distribusi berdasarkan pelanggan yang memiliki Kartu Kredit')\n",
    "plt.show()"
   ]
  },
  {
   "cell_type": "code",
   "execution_count": 33,
   "metadata": {},
   "outputs": [
    {
     "data": {
      "text/html": [
       "<div>\n",
       "<style scoped>\n",
       "    .dataframe tbody tr th:only-of-type {\n",
       "        vertical-align: middle;\n",
       "    }\n",
       "\n",
       "    .dataframe tbody tr th {\n",
       "        vertical-align: top;\n",
       "    }\n",
       "\n",
       "    .dataframe thead tr th {\n",
       "        text-align: left;\n",
       "    }\n",
       "\n",
       "    .dataframe thead tr:last-of-type th {\n",
       "        text-align: right;\n",
       "    }\n",
       "</style>\n",
       "<table border=\"1\" class=\"dataframe\">\n",
       "  <thead>\n",
       "    <tr>\n",
       "      <th></th>\n",
       "      <th>mean</th>\n",
       "      <th>var</th>\n",
       "      <th>std</th>\n",
       "    </tr>\n",
       "    <tr>\n",
       "      <th></th>\n",
       "      <th>HasCrCard</th>\n",
       "      <th>HasCrCard</th>\n",
       "      <th>HasCrCard</th>\n",
       "    </tr>\n",
       "    <tr>\n",
       "      <th>exited_str</th>\n",
       "      <th></th>\n",
       "      <th></th>\n",
       "      <th></th>\n",
       "    </tr>\n",
       "  </thead>\n",
       "  <tbody>\n",
       "    <tr>\n",
       "      <th>exit</th>\n",
       "      <td>0.699067</td>\n",
       "      <td>0.210476</td>\n",
       "      <td>0.458776</td>\n",
       "    </tr>\n",
       "    <tr>\n",
       "      <th>stay</th>\n",
       "      <td>0.707146</td>\n",
       "      <td>0.207117</td>\n",
       "      <td>0.455101</td>\n",
       "    </tr>\n",
       "  </tbody>\n",
       "</table>\n",
       "</div>"
      ],
      "text/plain": [
       "                mean       var       std\n",
       "           HasCrCard HasCrCard HasCrCard\n",
       "exited_str                              \n",
       "exit        0.699067  0.210476  0.458776\n",
       "stay        0.707146  0.207117  0.455101"
      ]
     },
     "execution_count": 33,
     "metadata": {},
     "output_type": "execute_result"
    }
   ],
   "source": [
    "# Mendapatkan nilai rata-rata, varian dan standar deviasi berdasarkan nasabah yang memiliki Kartu Kredit\n",
    "data.pivot_table(index='exited_str', values='HasCrCard', aggfunc=[np.mean, np.var, np.std])"
   ]
  },
  {
   "cell_type": "markdown",
   "metadata": {},
   "source": [
    "<div class=\"alert-info\">\n",
    "<b>Note</b>\n",
    "\n",
    "    \n",
    "- Penyebaran antara orang yang berhenti dan bertahan hampir sama.\n",
    "- Tidak Terdapat pengaruh terhadap data pelanggan yang berhenti dengan pelanggan yang memiliki kartu kredit.\n",
    "    \n",
    "\n",
    "</div>"
   ]
  },
  {
   "cell_type": "markdown",
   "metadata": {},
   "source": [
    "### Bagaimana distribusi data pelanggan berdasarkan tingkat ke-aktifan ?"
   ]
  },
  {
   "cell_type": "code",
   "execution_count": 34,
   "metadata": {},
   "outputs": [
    {
     "data": {
      "image/png": "[encoded data removed]",
      "text/plain": [
       "<Figure size 640x480 with 1 Axes>"
      ]
     },
     "metadata": {},
     "output_type": "display_data"
    }
   ],
   "source": [
    "# Melihat distribusi Memiliki Tingkat Keaktifan terhadap yang keluar atau bertahan\n",
    "sns.violinplot(data=data, x='IsActiveMember', y='exited_str')\n",
    "plt.title('Total distribusi berdasarkan tingkat keaktifan pelanggan')\n",
    "plt.show()"
   ]
  },
  {
   "cell_type": "code",
   "execution_count": 35,
   "metadata": {},
   "outputs": [
    {
     "data": {
      "text/html": [
       "<div>\n",
       "<style scoped>\n",
       "    .dataframe tbody tr th:only-of-type {\n",
       "        vertical-align: middle;\n",
       "    }\n",
       "\n",
       "    .dataframe tbody tr th {\n",
       "        vertical-align: top;\n",
       "    }\n",
       "\n",
       "    .dataframe thead tr th {\n",
       "        text-align: left;\n",
       "    }\n",
       "\n",
       "    .dataframe thead tr:last-of-type th {\n",
       "        text-align: right;\n",
       "    }\n",
       "</style>\n",
       "<table border=\"1\" class=\"dataframe\">\n",
       "  <thead>\n",
       "    <tr>\n",
       "      <th></th>\n",
       "      <th>mean</th>\n",
       "      <th>var</th>\n",
       "      <th>std</th>\n",
       "    </tr>\n",
       "    <tr>\n",
       "      <th></th>\n",
       "      <th>IsActiveMember</th>\n",
       "      <th>IsActiveMember</th>\n",
       "      <th>IsActiveMember</th>\n",
       "    </tr>\n",
       "    <tr>\n",
       "      <th>exited_str</th>\n",
       "      <th></th>\n",
       "      <th></th>\n",
       "      <th></th>\n",
       "    </tr>\n",
       "  </thead>\n",
       "  <tbody>\n",
       "    <tr>\n",
       "      <th>exit</th>\n",
       "      <td>0.360825</td>\n",
       "      <td>0.230744</td>\n",
       "      <td>0.480358</td>\n",
       "    </tr>\n",
       "    <tr>\n",
       "      <th>stay</th>\n",
       "      <td>0.554565</td>\n",
       "      <td>0.247054</td>\n",
       "      <td>0.497045</td>\n",
       "    </tr>\n",
       "  </tbody>\n",
       "</table>\n",
       "</div>"
      ],
      "text/plain": [
       "                     mean            var            std\n",
       "           IsActiveMember IsActiveMember IsActiveMember\n",
       "exited_str                                             \n",
       "exit             0.360825       0.230744       0.480358\n",
       "stay             0.554565       0.247054       0.497045"
      ]
     },
     "execution_count": 35,
     "metadata": {},
     "output_type": "execute_result"
    }
   ],
   "source": [
    "# Mendapatkan nilai rata-rata, varian dan standar deviasi berdasarkan tingkat keakfifan nasabah\n",
    "data.pivot_table(index='exited_str', values='IsActiveMember', aggfunc=[np.mean, np.var, np.std])"
   ]
  },
  {
   "cell_type": "markdown",
   "metadata": {},
   "source": [
    "<div class=\"alert-info\">\n",
    "<b>Note</b>\n",
    "\n",
    "    \n",
    "- Nasabah yang tidak aktif lebih cendrung berhenti bila dibandingkan dengan yang bertahan\n",
    "    \n",
    "\n",
    "</div>"
   ]
  },
  {
   "cell_type": "markdown",
   "metadata": {},
   "source": [
    "<div class=\"alert-info\">\n",
    "<b>Insight</b>\n",
    "\n",
    "    \n",
    "- Kolom yang mempengaruhi pelanggan yang berhenti yaitu : Geography, Gender, Age, NumOfProducts dan IsActiveMember\n",
    "    \n",
    "\n",
    "</div>"
   ]
  },
  {
   "cell_type": "markdown",
   "metadata": {},
   "source": [
    "## data preprocessing"
   ]
  },
  {
   "cell_type": "code",
   "execution_count": 36,
   "metadata": {},
   "outputs": [
    {
     "data": {
      "text/html": [
       "<div>\n",
       "<style scoped>\n",
       "    .dataframe tbody tr th:only-of-type {\n",
       "        vertical-align: middle;\n",
       "    }\n",
       "\n",
       "    .dataframe tbody tr th {\n",
       "        vertical-align: top;\n",
       "    }\n",
       "\n",
       "    .dataframe thead th {\n",
       "        text-align: right;\n",
       "    }\n",
       "</style>\n",
       "<table border=\"1\" class=\"dataframe\">\n",
       "  <thead>\n",
       "    <tr style=\"text-align: right;\">\n",
       "      <th></th>\n",
       "      <th>Geography</th>\n",
       "      <th>Gender</th>\n",
       "      <th>Age</th>\n",
       "      <th>NumOfProducts</th>\n",
       "      <th>IsActiveMember</th>\n",
       "      <th>EstimatedSalary</th>\n",
       "      <th>Exited</th>\n",
       "    </tr>\n",
       "  </thead>\n",
       "  <tbody>\n",
       "    <tr>\n",
       "      <th>0</th>\n",
       "      <td>France</td>\n",
       "      <td>Female</td>\n",
       "      <td>42</td>\n",
       "      <td>1</td>\n",
       "      <td>1</td>\n",
       "      <td>101348.88</td>\n",
       "      <td>1</td>\n",
       "    </tr>\n",
       "    <tr>\n",
       "      <th>1</th>\n",
       "      <td>Spain</td>\n",
       "      <td>Female</td>\n",
       "      <td>41</td>\n",
       "      <td>1</td>\n",
       "      <td>1</td>\n",
       "      <td>112542.58</td>\n",
       "      <td>0</td>\n",
       "    </tr>\n",
       "    <tr>\n",
       "      <th>2</th>\n",
       "      <td>France</td>\n",
       "      <td>Female</td>\n",
       "      <td>42</td>\n",
       "      <td>3</td>\n",
       "      <td>0</td>\n",
       "      <td>113931.57</td>\n",
       "      <td>1</td>\n",
       "    </tr>\n",
       "    <tr>\n",
       "      <th>3</th>\n",
       "      <td>France</td>\n",
       "      <td>Female</td>\n",
       "      <td>39</td>\n",
       "      <td>2</td>\n",
       "      <td>0</td>\n",
       "      <td>93826.63</td>\n",
       "      <td>0</td>\n",
       "    </tr>\n",
       "    <tr>\n",
       "      <th>4</th>\n",
       "      <td>Spain</td>\n",
       "      <td>Female</td>\n",
       "      <td>43</td>\n",
       "      <td>1</td>\n",
       "      <td>1</td>\n",
       "      <td>79084.10</td>\n",
       "      <td>0</td>\n",
       "    </tr>\n",
       "  </tbody>\n",
       "</table>\n",
       "</div>"
      ],
      "text/plain": [
       "  Geography  Gender  Age  NumOfProducts  IsActiveMember  EstimatedSalary  \\\n",
       "0    France  Female   42              1               1        101348.88   \n",
       "1     Spain  Female   41              1               1        112542.58   \n",
       "2    France  Female   42              3               0        113931.57   \n",
       "3    France  Female   39              2               0         93826.63   \n",
       "4     Spain  Female   43              1               1         79084.10   \n",
       "\n",
       "   Exited  \n",
       "0       1  \n",
       "1       0  \n",
       "2       1  \n",
       "3       0  \n",
       "4       0  "
      ]
     },
     "execution_count": 36,
     "metadata": {},
     "output_type": "execute_result"
    }
   ],
   "source": [
    "### Hapus kolom yang tidak digunakan dalam pembuatan model\n",
    "data = data.drop(['RowNumber', 'CustomerId', 'Surname', 'CreditScore', 'Tenure', 'Balance', 'HasCrCard', 'exited_str' ], axis=1)\n",
    "data.head()"
   ]
  },
  {
   "cell_type": "markdown",
   "metadata": {},
   "source": [
    "## Feature Engineering"
   ]
  },
  {
   "cell_type": "code",
   "execution_count": 37,
   "metadata": {},
   "outputs": [],
   "source": [
    "# One hot encoding ke data yang memiliki tipe data kategorikal nominal\n",
    "data = pd.get_dummies(data=data, drop_first=True)"
   ]
  },
  {
   "cell_type": "code",
   "execution_count": 38,
   "metadata": {},
   "outputs": [
    {
     "data": {
      "text/html": [
       "<div>\n",
       "<style scoped>\n",
       "    .dataframe tbody tr th:only-of-type {\n",
       "        vertical-align: middle;\n",
       "    }\n",
       "\n",
       "    .dataframe tbody tr th {\n",
       "        vertical-align: top;\n",
       "    }\n",
       "\n",
       "    .dataframe thead th {\n",
       "        text-align: right;\n",
       "    }\n",
       "</style>\n",
       "<table border=\"1\" class=\"dataframe\">\n",
       "  <thead>\n",
       "    <tr style=\"text-align: right;\">\n",
       "      <th></th>\n",
       "      <th>Age</th>\n",
       "      <th>NumOfProducts</th>\n",
       "      <th>IsActiveMember</th>\n",
       "      <th>EstimatedSalary</th>\n",
       "      <th>Exited</th>\n",
       "      <th>Geography_Germany</th>\n",
       "      <th>Geography_Spain</th>\n",
       "      <th>Gender_Male</th>\n",
       "    </tr>\n",
       "  </thead>\n",
       "  <tbody>\n",
       "    <tr>\n",
       "      <th>0</th>\n",
       "      <td>42</td>\n",
       "      <td>1</td>\n",
       "      <td>1</td>\n",
       "      <td>101348.88</td>\n",
       "      <td>1</td>\n",
       "      <td>0</td>\n",
       "      <td>0</td>\n",
       "      <td>0</td>\n",
       "    </tr>\n",
       "    <tr>\n",
       "      <th>1</th>\n",
       "      <td>41</td>\n",
       "      <td>1</td>\n",
       "      <td>1</td>\n",
       "      <td>112542.58</td>\n",
       "      <td>0</td>\n",
       "      <td>0</td>\n",
       "      <td>1</td>\n",
       "      <td>0</td>\n",
       "    </tr>\n",
       "    <tr>\n",
       "      <th>2</th>\n",
       "      <td>42</td>\n",
       "      <td>3</td>\n",
       "      <td>0</td>\n",
       "      <td>113931.57</td>\n",
       "      <td>1</td>\n",
       "      <td>0</td>\n",
       "      <td>0</td>\n",
       "      <td>0</td>\n",
       "    </tr>\n",
       "    <tr>\n",
       "      <th>3</th>\n",
       "      <td>39</td>\n",
       "      <td>2</td>\n",
       "      <td>0</td>\n",
       "      <td>93826.63</td>\n",
       "      <td>0</td>\n",
       "      <td>0</td>\n",
       "      <td>0</td>\n",
       "      <td>0</td>\n",
       "    </tr>\n",
       "    <tr>\n",
       "      <th>4</th>\n",
       "      <td>43</td>\n",
       "      <td>1</td>\n",
       "      <td>1</td>\n",
       "      <td>79084.10</td>\n",
       "      <td>0</td>\n",
       "      <td>0</td>\n",
       "      <td>1</td>\n",
       "      <td>0</td>\n",
       "    </tr>\n",
       "    <tr>\n",
       "      <th>5</th>\n",
       "      <td>44</td>\n",
       "      <td>2</td>\n",
       "      <td>0</td>\n",
       "      <td>149756.71</td>\n",
       "      <td>1</td>\n",
       "      <td>0</td>\n",
       "      <td>1</td>\n",
       "      <td>1</td>\n",
       "    </tr>\n",
       "    <tr>\n",
       "      <th>6</th>\n",
       "      <td>50</td>\n",
       "      <td>2</td>\n",
       "      <td>1</td>\n",
       "      <td>10062.80</td>\n",
       "      <td>0</td>\n",
       "      <td>0</td>\n",
       "      <td>0</td>\n",
       "      <td>1</td>\n",
       "    </tr>\n",
       "    <tr>\n",
       "      <th>7</th>\n",
       "      <td>29</td>\n",
       "      <td>4</td>\n",
       "      <td>0</td>\n",
       "      <td>119346.88</td>\n",
       "      <td>1</td>\n",
       "      <td>1</td>\n",
       "      <td>0</td>\n",
       "      <td>0</td>\n",
       "    </tr>\n",
       "    <tr>\n",
       "      <th>8</th>\n",
       "      <td>44</td>\n",
       "      <td>2</td>\n",
       "      <td>1</td>\n",
       "      <td>74940.50</td>\n",
       "      <td>0</td>\n",
       "      <td>0</td>\n",
       "      <td>0</td>\n",
       "      <td>1</td>\n",
       "    </tr>\n",
       "    <tr>\n",
       "      <th>9</th>\n",
       "      <td>27</td>\n",
       "      <td>1</td>\n",
       "      <td>1</td>\n",
       "      <td>71725.73</td>\n",
       "      <td>0</td>\n",
       "      <td>0</td>\n",
       "      <td>0</td>\n",
       "      <td>1</td>\n",
       "    </tr>\n",
       "  </tbody>\n",
       "</table>\n",
       "</div>"
      ],
      "text/plain": [
       "   Age  NumOfProducts  IsActiveMember  EstimatedSalary  Exited  \\\n",
       "0   42              1               1        101348.88       1   \n",
       "1   41              1               1        112542.58       0   \n",
       "2   42              3               0        113931.57       1   \n",
       "3   39              2               0         93826.63       0   \n",
       "4   43              1               1         79084.10       0   \n",
       "5   44              2               0        149756.71       1   \n",
       "6   50              2               1         10062.80       0   \n",
       "7   29              4               0        119346.88       1   \n",
       "8   44              2               1         74940.50       0   \n",
       "9   27              1               1         71725.73       0   \n",
       "\n",
       "   Geography_Germany  Geography_Spain  Gender_Male  \n",
       "0                  0                0            0  \n",
       "1                  0                1            0  \n",
       "2                  0                0            0  \n",
       "3                  0                0            0  \n",
       "4                  0                1            0  \n",
       "5                  0                1            1  \n",
       "6                  0                0            1  \n",
       "7                  1                0            0  \n",
       "8                  0                0            1  \n",
       "9                  0                0            1  "
      ]
     },
     "execution_count": 38,
     "metadata": {},
     "output_type": "execute_result"
    }
   ],
   "source": [
    "data.head(10)"
   ]
  },
  {
   "cell_type": "markdown",
   "metadata": {},
   "source": [
    "### Train Test Split"
   ]
  },
  {
   "cell_type": "code",
   "execution_count": 39,
   "metadata": {},
   "outputs": [],
   "source": [
    "# Memisahkan Target dengan Feature\n",
    "X = data.drop(['Exited'], axis=1)\n",
    "y = data['Exited']\n",
    "\n",
    "# Memisahkan antara train dan test\n",
    "X_train, X_test, y_train, y_test = train_test_split(X, y, test_size=0.2, random_state=12)"
   ]
  },
  {
   "cell_type": "code",
   "execution_count": 40,
   "metadata": {},
   "outputs": [
    {
     "data": {
      "text/html": [
       "<div>\n",
       "<style scoped>\n",
       "    .dataframe tbody tr th:only-of-type {\n",
       "        vertical-align: middle;\n",
       "    }\n",
       "\n",
       "    .dataframe tbody tr th {\n",
       "        vertical-align: top;\n",
       "    }\n",
       "\n",
       "    .dataframe thead th {\n",
       "        text-align: right;\n",
       "    }\n",
       "</style>\n",
       "<table border=\"1\" class=\"dataframe\">\n",
       "  <thead>\n",
       "    <tr style=\"text-align: right;\">\n",
       "      <th></th>\n",
       "      <th>Age</th>\n",
       "      <th>NumOfProducts</th>\n",
       "      <th>IsActiveMember</th>\n",
       "      <th>EstimatedSalary</th>\n",
       "      <th>Geography_Germany</th>\n",
       "      <th>Geography_Spain</th>\n",
       "      <th>Gender_Male</th>\n",
       "    </tr>\n",
       "  </thead>\n",
       "  <tbody>\n",
       "    <tr>\n",
       "      <th>5951</th>\n",
       "      <td>41</td>\n",
       "      <td>2</td>\n",
       "      <td>1</td>\n",
       "      <td>61018.85</td>\n",
       "      <td>0</td>\n",
       "      <td>0</td>\n",
       "      <td>1</td>\n",
       "    </tr>\n",
       "    <tr>\n",
       "      <th>6630</th>\n",
       "      <td>36</td>\n",
       "      <td>2</td>\n",
       "      <td>1</td>\n",
       "      <td>89804.83</td>\n",
       "      <td>0</td>\n",
       "      <td>0</td>\n",
       "      <td>0</td>\n",
       "    </tr>\n",
       "    <tr>\n",
       "      <th>3240</th>\n",
       "      <td>50</td>\n",
       "      <td>1</td>\n",
       "      <td>0</td>\n",
       "      <td>57541.08</td>\n",
       "      <td>0</td>\n",
       "      <td>0</td>\n",
       "      <td>1</td>\n",
       "    </tr>\n",
       "    <tr>\n",
       "      <th>5942</th>\n",
       "      <td>53</td>\n",
       "      <td>1</td>\n",
       "      <td>0</td>\n",
       "      <td>54676.10</td>\n",
       "      <td>1</td>\n",
       "      <td>0</td>\n",
       "      <td>1</td>\n",
       "    </tr>\n",
       "    <tr>\n",
       "      <th>3789</th>\n",
       "      <td>45</td>\n",
       "      <td>1</td>\n",
       "      <td>1</td>\n",
       "      <td>199256.98</td>\n",
       "      <td>0</td>\n",
       "      <td>1</td>\n",
       "      <td>0</td>\n",
       "    </tr>\n",
       "  </tbody>\n",
       "</table>\n",
       "</div>"
      ],
      "text/plain": [
       "      Age  NumOfProducts  IsActiveMember  EstimatedSalary  Geography_Germany  \\\n",
       "5951   41              2               1         61018.85                  0   \n",
       "6630   36              2               1         89804.83                  0   \n",
       "3240   50              1               0         57541.08                  0   \n",
       "5942   53              1               0         54676.10                  1   \n",
       "3789   45              1               1        199256.98                  0   \n",
       "\n",
       "      Geography_Spain  Gender_Male  \n",
       "5951                0            1  \n",
       "6630                0            0  \n",
       "3240                0            1  \n",
       "5942                0            1  \n",
       "3789                1            0  "
      ]
     },
     "execution_count": 40,
     "metadata": {},
     "output_type": "execute_result"
    }
   ],
   "source": [
    "# Lihat sample\n",
    "X_train.head()"
   ]
  },
  {
   "cell_type": "markdown",
   "metadata": {},
   "source": [
    "### Create Model"
   ]
  },
  {
   "cell_type": "code",
   "execution_count": 41,
   "metadata": {},
   "outputs": [],
   "source": [
    "def class_eval(model, X_train, X_test, y_train, y_test):\n",
    "    # Predict Train\n",
    "    y_train_pred = model.predict(X_train)\n",
    "\n",
    "    # Predict Test\n",
    "    y_test_pred = model.predict(X_test)\n",
    "\n",
    "    # Show Metrics\n",
    "    # Confusion Matrix\n",
    "    cm_tr = confusion_matrix(y_train, y_train_pred)\n",
    "    cm_te = confusion_matrix(y_test, y_test_pred)\n",
    "\n",
    "    # Accuracy\n",
    "    accuracy_tr = (cm_tr[0][0] + cm_tr[1][1]) / (cm_tr[0][0] + cm_tr[1][1] + cm_tr[0][1] + cm_tr[1][0])\n",
    "    accuracy_te = (cm_te[0][0] + cm_te[1][1]) / (cm_te[0][0] + cm_te[1][1] + cm_te[0][1] + cm_te[1][0])\n",
    "\n",
    "    # Precision\n",
    "    precision_tr_1 = cm_tr[1][1] / (cm_tr[1][1] + cm_tr[0][1])\n",
    "    precision_tr_0 = cm_tr[0][0] / (cm_tr[0][0] + cm_tr[1][0])\n",
    "    precision_te_1 = cm_te[1][1] / (cm_te[1][1] + cm_te[0][1])\n",
    "    precision_te_0 = cm_te[0][0] / (cm_te[0][0] + cm_te[1][0])\n",
    "\n",
    "    # Recall\n",
    "    recall_tr_1 = cm_tr[1][1] / (cm_tr[1][1] + cm_tr[1][0])\n",
    "    recall_tr_0 = cm_tr[0][0] / (cm_tr[0][0] + cm_tr[0][1])\n",
    "    recall_te_1 = cm_te[1][1] / (cm_te[1][1] + cm_te[1][0])\n",
    "    recall_te_0 = cm_te[0][0] / (cm_te[0][0] + cm_te[0][1])\n",
    "\n",
    "    # F1 Score\n",
    "    f1_score_tr_1 = (2 * precision_tr_1 * recall_tr_1) / (precision_tr_1 + recall_tr_1)\n",
    "    f1_score_tr_0 = (2 * precision_tr_0 * recall_tr_0) / (precision_tr_0 + recall_tr_0)\n",
    "    f1_score_te_1 = (2 * precision_te_1 * recall_te_1) / (precision_te_1 + recall_te_1)\n",
    "    f1_score_te_0 = (2 * precision_te_0 * recall_te_0) / (precision_te_0 + recall_te_0)\n",
    "\n",
    "    # ROC AUC score\n",
    "    roc_auc_tr = roc_auc_score(y_train, y_train_pred)\n",
    "    roc_auc_te = roc_auc_score(y_test, y_test_pred)\n",
    "\n",
    "    # Show Output\n",
    "    print('----------------Training----------------')\n",
    "    print('Confusion Matrix')\n",
    "    print(cm_tr)\n",
    "    print('Accuracy         :', round(accuracy_tr * 100, 1), '%')\n",
    "    print('ROC AUC          :', round(roc_auc_tr * 100, 1), '%')\n",
    "    print('Precision Class 0:', round(precision_tr_0 * 100, 1), '%')\n",
    "    print('Precision Class 1:', round(precision_tr_1 * 100, 1), '%')\n",
    "    print('Recall Class 0   :', round(recall_tr_0 * 100, 1), '%')\n",
    "    print('Recall Class 1   :', round(recall_tr_1 * 100, 1), '%')\n",
    "    print('F1 Score Class 0 :', round(f1_score_tr_0 * 100, 1), '%')\n",
    "    print('F1 Score Class 1 :', round(f1_score_tr_1 * 100, 1), '%')\n",
    "\n",
    "    print('\\n----------------Testing----------------')\n",
    "    print('Confusion Matrix')\n",
    "    print(cm_te)\n",
    "    print('Accuracy         :', round(accuracy_te * 100, 1), '%')\n",
    "    print('ROC AUC          :', round(roc_auc_te * 100, 1), '%')\n",
    "    print('Precision Class 0:', round(precision_te_0 * 100, 1), '%')\n",
    "    print('Precision Class 1:', round(precision_te_1 * 100, 1), '%')\n",
    "    print('Recall Class 0   :', round(recall_te_0 * 100, 1), '%')\n",
    "    print('Recall Class 1   :', round(recall_te_1 * 100, 1), '%')\n",
    "    print('F1 Score Class 0 :', round(f1_score_te_0 * 100, 1), '%')\n",
    "    print('F1 Score Class 1 :', round(f1_score_te_1 * 100, 1), '%')"
   ]
  },
  {
   "cell_type": "markdown",
   "metadata": {},
   "source": [
    "### Logistic Regression"
   ]
  },
  {
   "cell_type": "code",
   "execution_count": 42,
   "metadata": {},
   "outputs": [
    {
     "data": {
      "text/plain": [
       "LogisticRegression(random_state=12345)"
      ]
     },
     "execution_count": 42,
     "metadata": {},
     "output_type": "execute_result"
    }
   ],
   "source": [
    "# Bikin model lr\n",
    "lr = LogisticRegression(random_state=12345)\n",
    "# Training Model\n",
    "lr.fit(X_train, y_train)"
   ]
  },
  {
   "cell_type": "code",
   "execution_count": 43,
   "metadata": {},
   "outputs": [
    {
     "name": "stdout",
     "output_type": "stream",
     "text": [
      "----------------Training----------------\n",
      "Confusion Matrix\n",
      "[[6399    0]\n",
      " [1601    0]]\n",
      "Accuracy         : 80.0 %\n",
      "ROC AUC          : 50.0 %\n",
      "Precision Class 0: 80.0 %\n",
      "Precision Class 1: nan %\n",
      "Recall Class 0   : 100.0 %\n",
      "Recall Class 1   : 0.0 %\n",
      "F1 Score Class 0 : 88.9 %\n",
      "F1 Score Class 1 : nan %\n",
      "\n",
      "----------------Testing----------------\n",
      "Confusion Matrix\n",
      "[[1564    0]\n",
      " [ 436    0]]\n",
      "Accuracy         : 78.2 %\n",
      "ROC AUC          : 50.0 %\n",
      "Precision Class 0: 78.2 %\n",
      "Precision Class 1: nan %\n",
      "Recall Class 0   : 100.0 %\n",
      "Recall Class 1   : 0.0 %\n",
      "F1 Score Class 0 : 87.8 %\n",
      "F1 Score Class 1 : nan %\n"
     ]
    },
    {
     "name": "stderr",
     "output_type": "stream",
     "text": [
      "/tmp/ipykernel_62/504699899.py:18: RuntimeWarning: invalid value encountered in long_scalars\n",
      "  precision_tr_1 = cm_tr[1][1] / (cm_tr[1][1] + cm_tr[0][1])\n",
      "/tmp/ipykernel_62/504699899.py:20: RuntimeWarning: invalid value encountered in long_scalars\n",
      "  precision_te_1 = cm_te[1][1] / (cm_te[1][1] + cm_te[0][1])\n"
     ]
    }
   ],
   "source": [
    "# Evaluasi model lr\n",
    "class_eval(model=lr, X_train=X_train, X_test=X_test, y_train=y_train, y_test=y_test)"
   ]
  },
  {
   "cell_type": "markdown",
   "metadata": {},
   "source": [
    "<div class=\"alert-info\">\n",
    "<b>Insight</b>\n",
    "\n",
    "    \n",
    "- ROC AUC  cukup rendah yaitu 50% yang artinya sama seperti melempar koin yang kemungkinannya fifty:fifty\n",
    "    \n",
    "\n",
    "</div>"
   ]
  },
  {
   "cell_type": "markdown",
   "metadata": {},
   "source": [
    "### Random Forest hypertuning parameter"
   ]
  },
  {
   "cell_type": "code",
   "execution_count": 44,
   "metadata": {},
   "outputs": [
    {
     "data": {
      "text/plain": [
       "RandomForestClassifier(max_depth=9, n_estimators=1000, random_state=12345)"
      ]
     },
     "execution_count": 44,
     "metadata": {},
     "output_type": "execute_result"
    }
   ],
   "source": [
    "# Bikin model rf\n",
    "rf = RandomForestClassifier(max_depth=9, random_state=12345, n_estimators=1000)\n",
    "# Training Model\n",
    "rf.fit(X_train, y_train)"
   ]
  },
  {
   "cell_type": "code",
   "execution_count": 45,
   "metadata": {},
   "outputs": [
    {
     "name": "stdout",
     "output_type": "stream",
     "text": [
      "----------------Training----------------\n",
      "Confusion Matrix\n",
      "[[6290  109]\n",
      " [ 837  764]]\n",
      "Accuracy         : 88.2 %\n",
      "ROC AUC          : 73.0 %\n",
      "Precision Class 0: 88.3 %\n",
      "Precision Class 1: 87.5 %\n",
      "Recall Class 0   : 98.3 %\n",
      "Recall Class 1   : 47.7 %\n",
      "F1 Score Class 0 : 93.0 %\n",
      "F1 Score Class 1 : 61.8 %\n",
      "\n",
      "----------------Testing----------------\n",
      "Confusion Matrix\n",
      "[[1525   39]\n",
      " [ 246  190]]\n",
      "Accuracy         : 85.8 %\n",
      "ROC AUC          : 70.5 %\n",
      "Precision Class 0: 86.1 %\n",
      "Precision Class 1: 83.0 %\n",
      "Recall Class 0   : 97.5 %\n",
      "Recall Class 1   : 43.6 %\n",
      "F1 Score Class 0 : 91.5 %\n",
      "F1 Score Class 1 : 57.1 %\n"
     ]
    }
   ],
   "source": [
    "# Evaluasi model rf\n",
    "class_eval(model=rf, X_train=X_train, X_test=X_test, y_train=y_train, y_test=y_test)"
   ]
  },
  {
   "cell_type": "markdown",
   "metadata": {},
   "source": [
    "<div class=\"alert-info\">\n",
    "<b>Insight</b>\n",
    "\n",
    "Pada Random Forest hypertuning parameter, ROC-AUC sudah melebihi 59% dan berada di angka 70%.\n",
    "    \n",
    "</div>"
   ]
  }
 ],
 "metadata": {
  "ExecuteTimeLog": [
   {
    "duration": 5147,
    "start_time": "2024-07-01T01:37:41.428Z"
   },
   {
    "duration": 5,
    "start_time": "2024-07-01T01:37:58.639Z"
   },
   {
    "duration": 37,
    "start_time": "2024-07-01T01:38:00.011Z"
   },
   {
    "duration": 21,
    "start_time": "2024-07-01T01:38:00.692Z"
   },
   {
    "duration": 16,
    "start_time": "2024-07-01T01:38:02.581Z"
   },
   {
    "duration": 8,
    "start_time": "2024-07-01T01:38:03.273Z"
   },
   {
    "duration": 10,
    "start_time": "2024-07-01T01:38:04.461Z"
   },
   {
    "duration": 7,
    "start_time": "2024-07-01T01:38:04.805Z"
   },
   {
    "duration": 7,
    "start_time": "2024-07-01T01:38:05.268Z"
   },
   {
    "duration": 5,
    "start_time": "2024-07-01T01:38:10.780Z"
   },
   {
    "duration": 18,
    "start_time": "2024-07-01T01:38:12.192Z"
   },
   {
    "duration": 452,
    "start_time": "2024-07-01T01:38:12.677Z"
   },
   {
    "duration": 38,
    "start_time": "2024-07-01T01:38:13.132Z"
   },
   {
    "duration": 8,
    "start_time": "2024-07-01T01:38:14.382Z"
   },
   {
    "duration": 17,
    "start_time": "2024-07-01T01:38:14.765Z"
   },
   {
    "duration": 8,
    "start_time": "2024-07-01T01:38:15.015Z"
   },
   {
    "duration": 181,
    "start_time": "2024-07-01T01:38:15.407Z"
   },
   {
    "duration": 194,
    "start_time": "2024-07-01T01:38:15.912Z"
   },
   {
    "duration": 19,
    "start_time": "2024-07-01T01:38:16.185Z"
   },
   {
    "duration": 7,
    "start_time": "2024-07-01T01:38:16.881Z"
   },
   {
    "duration": 8,
    "start_time": "2024-07-01T01:38:17.982Z"
   },
   {
    "duration": 22,
    "start_time": "2024-07-01T01:38:18.262Z"
   },
   {
    "duration": 7,
    "start_time": "2024-07-01T01:38:18.665Z"
   },
   {
    "duration": 166,
    "start_time": "2024-07-01T01:38:19.485Z"
   },
   {
    "duration": 329,
    "start_time": "2024-07-01T01:38:20.250Z"
   },
   {
    "duration": 36,
    "start_time": "2024-07-01T01:38:20.620Z"
   },
   {
    "duration": 328,
    "start_time": "2024-07-01T01:38:21.645Z"
   },
   {
    "duration": 51,
    "start_time": "2024-07-01T01:38:21.977Z"
   },
   {
    "duration": 384,
    "start_time": "2024-07-01T01:38:22.783Z"
   },
   {
    "duration": 51,
    "start_time": "2024-07-01T01:38:23.171Z"
   },
   {
    "duration": 379,
    "start_time": "2024-07-01T01:38:24.206Z"
   },
   {
    "duration": 43,
    "start_time": "2024-07-01T01:38:24.589Z"
   },
   {
    "duration": 375,
    "start_time": "2024-07-01T01:38:25.624Z"
   },
   {
    "duration": 45,
    "start_time": "2024-07-01T01:38:26.009Z"
   },
   {
    "duration": 332,
    "start_time": "2024-07-01T01:38:27.052Z"
   },
   {
    "duration": 36,
    "start_time": "2024-07-01T01:38:27.401Z"
   },
   {
    "duration": 15,
    "start_time": "2024-07-01T01:38:28.921Z"
   },
   {
    "duration": 12,
    "start_time": "2024-07-01T01:38:29.780Z"
   },
   {
    "duration": 16,
    "start_time": "2024-07-01T01:38:30.124Z"
   },
   {
    "duration": 10,
    "start_time": "2024-07-01T01:38:30.895Z"
   },
   {
    "duration": 12,
    "start_time": "2024-07-01T01:38:31.256Z"
   },
   {
    "duration": 23,
    "start_time": "2024-07-01T01:38:31.963Z"
   },
   {
    "duration": 118,
    "start_time": "2024-07-01T01:38:33.193Z"
   },
   {
    "duration": 30,
    "start_time": "2024-07-01T01:38:33.605Z"
   },
   {
    "duration": 6104,
    "start_time": "2024-07-01T01:38:40.347Z"
   },
   {
    "duration": 1472,
    "start_time": "2024-07-01T01:38:46.455Z"
   },
   {
    "duration": 1614,
    "start_time": "2024-07-01T01:58:54.931Z"
   },
   {
    "duration": 25,
    "start_time": "2024-07-01T01:58:58.078Z"
   },
   {
    "duration": 23,
    "start_time": "2024-07-01T01:58:58.860Z"
   },
   {
    "duration": 17,
    "start_time": "2024-07-01T01:59:00.541Z"
   },
   {
    "duration": 8,
    "start_time": "2024-07-01T01:59:01.233Z"
   },
   {
    "duration": 8,
    "start_time": "2024-07-01T01:59:02.959Z"
   },
   {
    "duration": 7,
    "start_time": "2024-07-01T01:59:03.717Z"
   },
   {
    "duration": 7,
    "start_time": "2024-07-01T01:59:04.198Z"
   },
   {
    "duration": 5,
    "start_time": "2024-07-01T01:59:06.006Z"
   },
   {
    "duration": 10,
    "start_time": "2024-07-01T01:59:09.742Z"
   },
   {
    "duration": 391,
    "start_time": "2024-07-01T01:59:10.601Z"
   },
   {
    "duration": 37,
    "start_time": "2024-07-01T01:59:12.414Z"
   },
   {
    "duration": 8,
    "start_time": "2024-07-01T01:59:15.326Z"
   },
   {
    "duration": 24,
    "start_time": "2024-07-01T01:59:15.981Z"
   },
   {
    "duration": 9,
    "start_time": "2024-07-01T01:59:16.498Z"
   },
   {
    "duration": 169,
    "start_time": "2024-07-01T01:59:17.533Z"
   },
   {
    "duration": 184,
    "start_time": "2024-07-01T01:59:19.137Z"
   },
   {
    "duration": 17,
    "start_time": "2024-07-01T01:59:20.246Z"
   },
   {
    "duration": 7,
    "start_time": "2024-07-01T01:59:22.900Z"
   },
   {
    "duration": 11,
    "start_time": "2024-07-01T01:59:27.009Z"
   },
   {
    "duration": 23,
    "start_time": "2024-07-01T01:59:27.354Z"
   },
   {
    "duration": 6,
    "start_time": "2024-07-01T01:59:27.739Z"
   },
   {
    "duration": 165,
    "start_time": "2024-07-01T01:59:29.325Z"
   },
   {
    "duration": 355,
    "start_time": "2024-07-01T01:59:42.351Z"
   },
   {
    "duration": 37,
    "start_time": "2024-07-01T01:59:45.361Z"
   },
   {
    "duration": 356,
    "start_time": "2024-07-01T01:59:49.917Z"
   },
   {
    "duration": 32,
    "start_time": "2024-07-01T01:59:50.699Z"
   },
   {
    "duration": 336,
    "start_time": "2024-07-01T01:59:52.632Z"
   },
   {
    "duration": 50,
    "start_time": "2024-07-01T01:59:52.972Z"
   },
   {
    "duration": 352,
    "start_time": "2024-07-01T01:59:53.942Z"
   },
   {
    "duration": 40,
    "start_time": "2024-07-01T01:59:54.301Z"
   },
   {
    "duration": 372,
    "start_time": "2024-07-01T01:59:55.402Z"
   },
   {
    "duration": 46,
    "start_time": "2024-07-01T01:59:55.780Z"
   },
   {
    "duration": 369,
    "start_time": "2024-07-01T01:59:56.916Z"
   },
   {
    "duration": 36,
    "start_time": "2024-07-01T01:59:57.320Z"
   },
   {
    "duration": 15,
    "start_time": "2024-07-01T01:59:59.330Z"
   },
   {
    "duration": 12,
    "start_time": "2024-07-01T02:00:01.144Z"
   },
   {
    "duration": 18,
    "start_time": "2024-07-01T02:00:01.997Z"
   },
   {
    "duration": 11,
    "start_time": "2024-07-01T02:00:03.379Z"
   },
   {
    "duration": 12,
    "start_time": "2024-07-01T02:00:06.125Z"
   },
   {
    "duration": 99,
    "start_time": "2024-07-01T02:00:25.597Z"
   },
   {
    "duration": 94,
    "start_time": "2024-07-01T02:00:26.818Z"
   },
   {
    "duration": 27,
    "start_time": "2024-07-01T02:00:27.999Z"
   },
   {
    "duration": 6141,
    "start_time": "2024-07-01T02:00:52.368Z"
   },
   {
    "duration": 1502,
    "start_time": "2024-07-01T02:00:58.513Z"
   }
  ],
  "kernelspec": {
   "display_name": "Python 3 (ipykernel)",
   "language": "python",
   "name": "python3"
  },
  "language_info": {
   "codemirror_mode": {
    "name": "ipython",
    "version": 3
   },
   "file_extension": ".py",
   "mimetype": "text/x-python",
   "name": "python",
   "nbconvert_exporter": "python",
   "pygments_lexer": "ipython3",
   "version": "3.9.19"
  },
  "toc": {
   "base_numbering": 1,
   "nav_menu": {},
   "number_sections": true,
   "sideBar": true,
   "skip_h1_title": true,
   "title_cell": "Table of Contents",
   "title_sidebar": "Contents",
   "toc_cell": false,
   "toc_position": {
    "height": "calc(100% - 180px)",
    "left": "10px",
    "top": "150px",
    "width": "368px"
   },
   "toc_section_display": true,
   "toc_window_display": true
  }
 },
 "nbformat": 4,
 "nbformat_minor": 2
}
